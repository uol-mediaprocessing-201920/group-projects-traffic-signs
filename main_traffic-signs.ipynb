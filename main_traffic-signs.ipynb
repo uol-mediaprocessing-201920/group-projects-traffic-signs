{
  "nbformat": 4,
  "nbformat_minor": 0,
  "metadata": {
    "colab": {
      "name": "Untitled0.ipynb",
      "provenance": [],
      "include_colab_link": true
    },
    "kernelspec": {
      "display_name": "Python 3",
      "language": "python",
      "name": "python3"
    },
    "language_info": {
      "codemirror_mode": {
        "name": "ipython",
        "version": 3
      },
      "file_extension": ".py",
      "mimetype": "text/x-python",
      "name": "python",
      "nbconvert_exporter": "python",
      "pygments_lexer": "ipython3",
      "version": "3.7.3"
    }
  },
  "cells": [
    {
      "cell_type": "markdown",
      "metadata": {
        "id": "view-in-github",
        "colab_type": "text"
      },
      "source": [
        "<a href=\"https://colab.research.google.com/github/uol-mediaprocessing/group-projects-traffic-signs/blob/master/main_traffic-signs.ipynb\" target=\"_parent\"><img src=\"https://colab.research.google.com/assets/colab-badge.svg\" alt=\"Open In Colab\"/></a>"
      ]
    },
    {
      "cell_type": "markdown",
      "metadata": {
        "id": "9kQcKta5U9XB",
        "colab_type": "text"
      },
      "source": [
        "#  Assisting children while biking\n",
        "\n",
        "### Gruppe 7: Maximilian Hörnis, Florian Schwarm, Dennis Rupprecht\n",
        "\n",
        "## Motivation \n",
        "- Children are active participants in road traffic\n",
        "- Traffic signs might not be obvious to them\n",
        "- Handheld technology device (smartphones etc.) usage is prevalent among children "
      ]
    },
    {
      "cell_type": "markdown",
      "metadata": {
        "id": "BPiTRiyMUyjp",
        "colab_type": "text"
      },
      "source": [
        "## Idea\n",
        "\n",
        "Recognize and classify traffic signs automatically and display them in\n",
        "an easy to understand assistive technology for children, without distracting them."
      ]
    },
    {
      "cell_type": "markdown",
      "metadata": {
        "id": "0MIfdy9bUyjs",
        "colab_type": "text"
      },
      "source": [
        "## Tasks\n",
        "    \n",
        "- Recognizing and classifiying traffic signs\n",
        "- Interpretation of images in a way that is\n",
        "    - a) sufficiently comprehensible for children and\n",
        "    - b) not distracting."
      ]
    },
    {
      "cell_type": "markdown",
      "metadata": {
        "id": "12OZ1BgyUyju",
        "colab_type": "text"
      },
      "source": [
        "## Possible Extensions\n",
        "\n",
        "- Detection of intersections without relying on traffic signs\n",
        "- Detection of traffic lights and their current position (red, green, yellow)\n",
        "- Applying the traffic sign classifier to live video (or recordings)\n",
        "- Integrating the system into a mobile application"
      ]
    },
    {
      "cell_type": "markdown",
      "metadata": {
        "id": "VSqMLdJ7Uyjx",
        "colab_type": "text"
      },
      "source": [
        "## Possible Issues\n",
        "\n",
        "- Recognizing dirty or occluded signs\n",
        "- Determining which street a sign refers to and how long it is valid\n",
        "- Reliable detection of intersections"
      ]
    },
    {
      "cell_type": "code",
      "metadata": {
        "id": "Us_vf2H8Uyjy",
        "colab_type": "code",
        "colab": {}
      },
      "source": [
        ""
      ],
      "execution_count": 0,
      "outputs": []
    }
  ]
}