{
 "cells": [
  {
   "cell_type": "markdown",
   "metadata": {
    "colab_type": "text",
    "id": "view-in-github"
   },
   "source": [
    "<a href=\"https://colab.research.google.com/github/uol-mediaprocessing/group-projects-traffic-signs/blob/master/main_traffic-signs.ipynb\" target=\"_parent\"><img src=\"https://colab.research.google.com/assets/colab-badge.svg\" alt=\"Open In Colab\"/></a>"
   ]
  },
  {
   "cell_type": "markdown",
   "metadata": {
    "colab": {},
    "colab_type": "code",
    "id": "hx4YiqSs5RjZ"
   },
   "source": [
    "#  Assisting children while biking\n",
    "\n",
    "### Gruppe 7: Maximilian Hörnis, Florian Schwarm, Dennis Rupprecht\n",
    "\n",
    "## Motivation \n",
    "- Kinder nehmen am Straßenverkehr teil\n",
    "- Beschilderung dabei nicht immer verständlich für Kinder\n",
    "- Mobile-Technologie bei Kindern stark fortgeschritten\n"
   ]
  },
  {
   "cell_type": "markdown",
   "metadata": {},
   "source": [
    "## Idee\n",
    "\n",
    "- leicht verständliche Hilfestellung für Kinder\n",
    "    - ohne Kinder negativ zu beeinflussen/ablenken\n",
    "- Erkennung von Verkehrsschildern\n"
   ]
  },
  {
   "cell_type": "markdown",
   "metadata": {},
   "source": [
    "## Aufgaben\n",
    "- Erkennung von Schildern\n",
    "- Interpretation der Bilder\n",
    "- Leichte Wiedergabe\n",
    "    - Kinder müssen es verstehen können\n",
    "    - keine Ablenkung dieser"
   ]
  },
  {
   "cell_type": "markdown",
   "metadata": {},
   "source": [
    "## Mögliche Erweiterung\n",
    "- Erkennung von Kreuzungen ohne Schilder\n",
    "- Erkennung von Ampeln und deren Aussage\n",
    "- Anwendung der Applikation auf Videos/Liveaufnahmen \n",
    "- Einbindung in mobile Applikation"
   ]
  },
  {
   "cell_type": "markdown",
   "metadata": {},
   "source": [
    "## Mögliche Problemstellungen\n",
    "\n",
    "- Interpretation von bedeckten/verdreckten Schildern\n",
    "- Schilder, die nicht für die derzeitige Straße gemeint sind\n",
    "- Fehlen von Schildern\n",
    "- Erkennung/Fehlerkennung von Kreuzung\n"
   ]
  },
  {
   "cell_type": "code",
   "execution_count": null,
   "metadata": {},
   "outputs": [],
   "source": []
  }
 ],
 "metadata": {
  "colab": {
   "include_colab_link": true,
   "name": "Untitled0.ipynb",
   "provenance": []
  },
  "kernelspec": {
   "display_name": "Python 3",
   "language": "python",
   "name": "python3"
  },
  "language_info": {
   "codemirror_mode": {
    "name": "ipython",
    "version": 3
   },
   "file_extension": ".py",
   "mimetype": "text/x-python",
   "name": "python",
   "nbconvert_exporter": "python",
   "pygments_lexer": "ipython3",
   "version": "3.7.3"
  }
 },
 "nbformat": 4,
 "nbformat_minor": 1
}
