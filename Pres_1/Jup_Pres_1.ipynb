{
 "cells": [
  {
   "cell_type": "markdown",
   "metadata": {
    "colab_type": "text",
    "id": "9kQcKta5U9XB",
    "slideshow": {
     "slide_type": "slide"
    }
   },
   "source": [
    "#  Assisting children while biking\n",
    "\n",
    "### Gruppe 7: Maximilian Hörnis, Florian Schwarm, Dennis Rupprecht"
   ]
  },
  {
   "cell_type": "markdown",
   "metadata": {
    "slideshow": {
     "slide_type": "slide"
    }
   },
   "source": [
    "## Motivation \n",
    "\n",
    "- Children are active participants in road traffic\n",
    "- Traffic signs might not be obvious to them\n",
    "- Handheld technology device (smartphones etc.) usage is prevalent among children "
   ]
  },
  {
   "cell_type": "markdown",
   "metadata": {
    "colab_type": "text",
    "id": "BPiTRiyMUyjp",
    "slideshow": {
     "slide_type": "slide"
    }
   },
   "source": [
    "## Idea\n",
    "\n",
    "Recognize and classify traffic signs automatically and display them in\n",
    "an easy to understand assistive technology for children, without distracting them."
   ]
  },
  {
   "cell_type": "markdown",
   "metadata": {
    "slideshow": {
     "slide_type": "slide"
    }
   },
   "source": [
    "## Idea - Example\n",
    "[Example_positiv](ress/example_pos.png)"
   ]
  },
  {
   "cell_type": "markdown",
   "metadata": {
    "slideshow": {
     "slide_type": "slide"
    }
   },
   "source": [
    "## Idea - Example\n",
    "[Example_negativ](ress/example_neg.png)"
   ]
  },
  {
   "cell_type": "markdown",
   "metadata": {
    "colab_type": "text",
    "id": "0MIfdy9bUyjs",
    "slideshow": {
     "slide_type": "slide"
    }
   },
   "source": [
    "## Tasks\n",
    "    \n",
    "- Recognizing and classifiying traffic signs\n",
    "- Interpretation of images in a way that is\n",
    "    - a) sufficiently comprehensible for children and\n",
    "    - b) not distracting."
   ]
  },
  {
   "cell_type": "markdown",
   "metadata": {
    "colab_type": "text",
    "id": "12OZ1BgyUyju",
    "slideshow": {
     "slide_type": "slide"
    }
   },
   "source": [
    "## Possible Extensions\n",
    "\n",
    "- Detection of intersections without relying on traffic signs\n",
    "- Detection of traffic lights and their current position (red, green, yellow)\n",
    "- Applying the traffic sign classifier to live video (or recordings)\n",
    "- Integrating the system into a mobile application"
   ]
  },
  {
   "cell_type": "markdown",
   "metadata": {
    "slideshow": {
     "slide_type": "slide"
    }
   },
   "source": [
    "## Possible Issues\n",
    "[Possible Issues](ress/possible_iss_1.png)"
   ]
  },
  {
   "cell_type": "markdown",
   "metadata": {
    "slideshow": {
     "slide_type": "slide"
    }
   },
   "source": [
    "## Possible Issues\n",
    "[Possible Issues](ress/possible_iss_2.png)"
   ]
  },
  {
   "cell_type": "markdown",
   "metadata": {
    "colab_type": "text",
    "id": "VSqMLdJ7Uyjx",
    "slideshow": {
     "slide_type": "slide"
    }
   },
   "source": [
    "## Possible Issues\n",
    "\n",
    "- Recognizing dirty or occluded signs\n",
    "- Determining which street a sign refers to and how long it is valid\n",
    "- Reliable detection of intersections"
   ]
  },
  {
   "cell_type": "markdown",
   "metadata": {
    "colab": {},
    "colab_type": "code",
    "id": "Us_vf2H8Uyjy",
    "slideshow": {
     "slide_type": "slide"
    }
   },
   "source": [
    "## Next Steps\n",
    "- Requirements \n",
    "- First experience with Jupyter and OpenCV"
   ]
  },
  {
   "cell_type": "code",
   "execution_count": null,
   "metadata": {
    "slideshow": {
     "slide_type": "slide"
    }
   },
   "outputs": [],
   "source": []
  }
 ],
 "metadata": {
  "celltoolbar": "Slideshow",
  "colab": {
   "include_colab_link": true,
   "name": "Untitled0.ipynb",
   "provenance": []
  },
  "kernelspec": {
   "display_name": "Python 3",
   "language": "python",
   "name": "python3"
  },
  "language_info": {
   "codemirror_mode": {
    "name": "ipython",
    "version": 3
   },
   "file_extension": ".py",
   "mimetype": "text/x-python",
   "name": "python",
   "nbconvert_exporter": "python",
   "pygments_lexer": "ipython3",
   "version": "3.7.3"
  }
 },
 "nbformat": 4,
 "nbformat_minor": 1
}
