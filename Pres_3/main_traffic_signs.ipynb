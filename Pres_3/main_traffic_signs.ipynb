{
  "nbformat": 4,
  "nbformat_minor": 0,
  "metadata": {
    "colab": {
      "name": "Copy of Untitled1.ipynb",
      "provenance": [],
      "collapsed_sections": [],
      "toc_visible": true
    },
    "kernelspec": {
      "name": "python3",
      "display_name": "Python 3"
    }
  },
  "cells": [
    {
      "cell_type": "markdown",
      "metadata": {
        "colab_type": "text",
        "id": "9kQcKta5U9XB"
      },
      "source": [
        "#  Assisting children while biking\n",
        "\n",
        "### Gruppe 7: Maximilian Hörnis, Florian Schwarm, Dennis Rupprecht\n",
        "\n",
        "## Motivation \n",
        "- Children are active participants in road traffic\n",
        "- Traffic signs might not be obvious to them\n",
        "- Handheld technology device (smartphones etc.) usage is prevalent among children "
      ]
    },
    {
      "cell_type": "markdown",
      "metadata": {
        "colab_type": "text",
        "id": "BPiTRiyMUyjp"
      },
      "source": [
        "## Idea\n",
        "\n",
        "Recognize and classify traffic signs automatically and display them in\n",
        "an easy to understand assistive technology for children, without distracting them."
      ]
    },
    {
      "cell_type": "markdown",
      "metadata": {
        "id": "Cf5Sq7d4_2kf",
        "colab_type": "text"
      },
      "source": [
        "## Task\n",
        "\n",
        "\n",
        "* Create selection from traffic signs\n",
        "*   Recognize a stop sign\n",
        "\n"
      ]
    },
    {
      "cell_type": "code",
      "metadata": {
        "id": "d12_B-OJQo-w",
        "colab_type": "code",
        "colab": {}
      },
      "source": [
        "# Import some libs\n",
        "import cv2\n",
        "import numpy as np\n",
        "import matplotlib\n",
        "import matplotlib.pyplot as plt\n",
        "font = cv2.FONT_HERSHEY_COMPLEX\n",
        "from google.colab.patches import cv2_imshow"
      ],
      "execution_count": 0,
      "outputs": []
    },
    {
      "cell_type": "code",
      "metadata": {
        "id": "9whvx9zxluGI",
        "colab_type": "code",
        "outputId": "86419866-722b-4e23-8e6a-10c2b0c893d9",
        "colab": {
          "base_uri": "https://localhost:8080/",
          "height": 252
        }
      },
      "source": [
        "\n",
        "img = cv2.imread(\"stopsign2.png\")\n",
        "#img = cv2.cvtColor(img, cv2.COLOR_BGR2RGB)\n",
        "img = cv2.cvtColor(img, cv2.COLOR_BGR2HSV)\n",
        "\n",
        "# Define the colors. We are looking for the colors between [224, 27, 34](color img) and [227, 30, 36](color img2)\n",
        "#lower = np.array([178, 34, 34], dtype = \"uint8\")\n",
        "#upper = np.array([228, 113, 120], dtype = \"uint8\")\n",
        "\n",
        "lower = np.array([155,25,0])\n",
        "upper = np.array([179,255,255])\n",
        "# inRange now looking in the picture between the both colors\n",
        "mask = cv2.inRange(img, lower, upper)\n",
        "\n",
        "#plt.axis(\"off\")\n",
        "#plt.imshow(mask)\n",
        "\n",
        "# bitwise_and show only the selected origin colors. Other colors are black\n",
        "output = cv2.bitwise_and(img, img, mask = mask)\n",
        "plt.axis(\"off\")\n",
        "plt.imshow(output)\n",
        "#plt.imshow(img)\n",
        "imask = mask>0\n",
        "green = np.zeros_like(img, np.uint8)\n",
        "green[imask] = img[imask]\n",
        "\n",
        "## save \n",
        "cv2.imwrite(\"green.png\", green)\n",
        "\n"
      ],
      "execution_count": 16,
      "outputs": [
        {
          "output_type": "error",
          "ename": "error",
          "evalue": "ignored",
          "traceback": [
            "\u001b[0;31m---------------------------------------------------------------------------\u001b[0m",
            "\u001b[0;31merror\u001b[0m                                     Traceback (most recent call last)",
            "\u001b[0;32m<ipython-input-16-bd924ef42698>\u001b[0m in \u001b[0;36m<module>\u001b[0;34m()\u001b[0m\n\u001b[1;32m      2\u001b[0m \u001b[0mimg\u001b[0m \u001b[0;34m=\u001b[0m \u001b[0mcv2\u001b[0m\u001b[0;34m.\u001b[0m\u001b[0mimread\u001b[0m\u001b[0;34m(\u001b[0m\u001b[0;34m\"stopsign2.png\"\u001b[0m\u001b[0;34m)\u001b[0m\u001b[0;34m\u001b[0m\u001b[0;34m\u001b[0m\u001b[0m\n\u001b[1;32m      3\u001b[0m \u001b[0;31m#img = cv2.cvtColor(img, cv2.COLOR_BGR2RGB)\u001b[0m\u001b[0;34m\u001b[0m\u001b[0;34m\u001b[0m\u001b[0;34m\u001b[0m\u001b[0m\n\u001b[0;32m----> 4\u001b[0;31m \u001b[0mimg\u001b[0m \u001b[0;34m=\u001b[0m \u001b[0mcv2\u001b[0m\u001b[0;34m.\u001b[0m\u001b[0mcvtColor\u001b[0m\u001b[0;34m(\u001b[0m\u001b[0mimg\u001b[0m\u001b[0;34m,\u001b[0m \u001b[0mcv2\u001b[0m\u001b[0;34m.\u001b[0m\u001b[0mCOLOR_BGR2HSV\u001b[0m\u001b[0;34m)\u001b[0m\u001b[0;34m\u001b[0m\u001b[0;34m\u001b[0m\u001b[0m\n\u001b[0m\u001b[1;32m      5\u001b[0m \u001b[0;34m\u001b[0m\u001b[0m\n\u001b[1;32m      6\u001b[0m \u001b[0;31m# Define the colors. We are looking for the colors between [224, 27, 34](color img) and [227, 30, 36](color img2)\u001b[0m\u001b[0;34m\u001b[0m\u001b[0;34m\u001b[0m\u001b[0;34m\u001b[0m\u001b[0m\n",
            "\u001b[0;31merror\u001b[0m: OpenCV(3.4.3) /io/opencv/modules/imgproc/src/color.cpp:181: error: (-215:Assertion failed) !_src.empty() in function 'cvtColor'\n"
          ]
        }
      ]
    },
    {
      "cell_type": "code",
      "metadata": {
        "id": "z_m6fdgrBB-7",
        "colab_type": "code",
        "outputId": "17b33535-4e63-4c8d-b568-ed81d1f80113",
        "colab": {
          "base_uri": "https://localhost:8080/",
          "height": 836
        }
      },
      "source": [
        "\n",
        "\n",
        "img = cv2.imread(\"green.png\")\n",
        "gray = cv2.cvtColor(img, cv2.COLOR_BGR2GRAY)\n",
        "_, threshold = cv2.threshold(gray, 240, 255, cv2.THRESH_BINARY)\n",
        "_, contours, _ = cv2.findContours(threshold, cv2.RETR_TREE, cv2.CHAIN_APPROX_SIMPLE)\n",
        "\n",
        "for cnt in contours:\n",
        "    approx = cv2.approxPolyDP(cnt, 0.01*cv2.arcLength(cnt, True), True)\n",
        "    cv2.drawContours(img, [approx], 0, (0), 5)\n",
        "    x = approx.ravel()[0]\n",
        "    y = approx.ravel()[1]\n",
        "    if len(approx)==8:\n",
        "        print(\"stop sign\")\n",
        "        cv2.drawContours(img,[cnt],0,(255,255,0),-1)\n",
        "\n",
        "\n",
        "plt.imshow(gray)\n",
        "cv2_imshow(threshold)\n",
        "cv2.waitKey(0)\n",
        "cv2.destroyAllWindows()\n",
        "    \n",
        "\n",
        "\n",
        "\n",
        "\n",
        "\n",
        "\n",
        "\n"
      ],
      "execution_count": 0,
      "outputs": [
        {
          "output_type": "display_data",
          "data": {
            "image/png": "[encoded data removed]",
            "text/plain": [
              "<PIL.Image.Image image mode=L size=1024x576 at 0x7F11B35D3780>"
            ]
          },
          "metadata": {
            "tags": []
          }
        },
        {
          "output_type": "display_data",
          "data": {
            "image/png": "[encoded data removed]",
            "text/plain": [
              "<Figure size 432x288 with 1 Axes>"
            ]
          },
          "metadata": {
            "tags": []
          }
        }
      ]
    }
  ]
}